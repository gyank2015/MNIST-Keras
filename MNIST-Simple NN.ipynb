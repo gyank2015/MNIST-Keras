{
 "cells": [
  {
   "cell_type": "code",
   "execution_count": 71,
   "metadata": {
    "collapsed": true,
    "deletable": true,
    "editable": true
   },
   "outputs": [],
   "source": [
    "from keras.datasets import mnist\n",
    "from keras.models import Sequential\n",
    "from keras.layers import Dense, Activation, Dropout\n",
    "from keras.utils import np_utils\n",
    "import numpy as np"
   ]
  },
  {
   "cell_type": "code",
   "execution_count": 72,
   "metadata": {
    "collapsed": false,
    "deletable": true,
    "editable": true
   },
   "outputs": [
    {
     "name": "stdout",
     "output_type": "stream",
     "text": [
      "(60000, 28, 28)\n"
     ]
    }
   ],
   "source": [
    "(X_train, y_train), (X_test, y_test) = mnist.load_data()\n",
    "print X_train.shape"
   ]
  },
  {
   "cell_type": "code",
   "execution_count": 73,
   "metadata": {
    "collapsed": false,
    "deletable": true,
    "editable": true
   },
   "outputs": [],
   "source": [
    "np.random.seed(10)"
   ]
  },
  {
   "cell_type": "code",
   "execution_count": 74,
   "metadata": {
    "collapsed": false,
    "deletable": true,
    "editable": true
   },
   "outputs": [
    {
     "name": "stdout",
     "output_type": "stream",
     "text": [
      "(10000, 784) (60000, 784)\n"
     ]
    }
   ],
   "source": [
    "m_train = X_train.shape[0]\n",
    "m_test = X_test.shape[0]\n",
    "n = X_train.shape[1]*X_train.shape[2]\n",
    "nb_class = 10\n",
    "X_train = X_train.reshape(m_train,n).astype('float32')\n",
    "X_test = X_test.reshape(m_test,n).astype('float32')\n",
    "X_train /= 255\n",
    "X_test /= 255\n",
    "print X_test.shape, X_train.shape"
   ]
  },
  {
   "cell_type": "code",
   "execution_count": 75,
   "metadata": {
    "collapsed": false,
    "deletable": true,
    "editable": true
   },
   "outputs": [
    {
     "name": "stdout",
     "output_type": "stream",
     "text": [
      "(60000, 10) (10000, 10) [ 0.  0.  0.  1.  0.  0.  0.  0.  0.  0.]\n"
     ]
    }
   ],
   "source": [
    "y_train = np_utils.to_categorical(y_train, nb_class)\n",
    "y_test = np_utils.to_categorical(y_test, nb_class)"
   ]
  },
  {
   "cell_type": "code",
   "execution_count": 76,
   "metadata": {
    "collapsed": false,
    "deletable": true,
    "editable": true
   },
   "outputs": [],
   "source": [
    "model = Sequential()\n",
    "model.add(Dense(1000, input_dim=n, activation='relu'))\n",
    "model.add(Dense(1000, activation='relu'))\n",
    "model.add(Dense(nb_class, activation='softmax'))\n",
    "model.compile(loss='categorical_crossentropy', optimizer='rmsprop', metrics=['accuracy'])"
   ]
  },
  {
   "cell_type": "code",
   "execution_count": 77,
   "metadata": {
    "collapsed": false,
    "deletable": true,
    "editable": true
   },
   "outputs": [
    {
     "name": "stdout",
     "output_type": "stream",
     "text": [
      "Train on 60000 samples, validate on 10000 samples\n",
      "Epoch 1/20\n",
      "8s - loss: 0.2621 - acc: 0.9228 - val_loss: 0.1166 - val_acc: 0.9649\n",
      "Epoch 2/20\n",
      "8s - loss: 0.0999 - acc: 0.9698 - val_loss: 0.0823 - val_acc: 0.9742\n",
      "Epoch 3/20\n",
      "8s - loss: 0.0647 - acc: 0.9807 - val_loss: 0.0677 - val_acc: 0.9790\n",
      "Epoch 4/20\n",
      "8s - loss: 0.0446 - acc: 0.9865 - val_loss: 0.0655 - val_acc: 0.9796\n",
      "Epoch 5/20\n",
      "8s - loss: 0.0323 - acc: 0.9899 - val_loss: 0.0599 - val_acc: 0.9814\n",
      "Epoch 6/20\n",
      "9s - loss: 0.0241 - acc: 0.9924 - val_loss: 0.0615 - val_acc: 0.9802\n",
      "Epoch 7/20\n",
      "8s - loss: 0.0180 - acc: 0.9946 - val_loss: 0.0659 - val_acc: 0.9809\n",
      "Epoch 8/20\n",
      "8s - loss: 0.0135 - acc: 0.9961 - val_loss: 0.0683 - val_acc: 0.9803\n",
      "Epoch 9/20\n",
      "8s - loss: 0.0097 - acc: 0.9974 - val_loss: 0.0661 - val_acc: 0.9830\n",
      "Epoch 10/20\n",
      "8s - loss: 0.0079 - acc: 0.9978 - val_loss: 0.0648 - val_acc: 0.9829\n",
      "Epoch 11/20\n",
      "8s - loss: 0.0060 - acc: 0.9984 - val_loss: 0.0755 - val_acc: 0.9809\n",
      "Epoch 12/20\n",
      "8s - loss: 0.0048 - acc: 0.9987 - val_loss: 0.0749 - val_acc: 0.9816\n",
      "Epoch 13/20\n",
      "8s - loss: 0.0036 - acc: 0.9991 - val_loss: 0.0731 - val_acc: 0.9832\n",
      "Epoch 14/20\n",
      "8s - loss: 0.0030 - acc: 0.9992 - val_loss: 0.0765 - val_acc: 0.9822\n",
      "Epoch 15/20\n",
      "8s - loss: 0.0026 - acc: 0.9993 - val_loss: 0.0812 - val_acc: 0.9814\n",
      "Epoch 16/20\n",
      "8s - loss: 0.0019 - acc: 0.9996 - val_loss: 0.0871 - val_acc: 0.9833\n",
      "Epoch 17/20\n",
      "8s - loss: 0.0018 - acc: 0.9996 - val_loss: 0.0839 - val_acc: 0.9839\n",
      "Epoch 18/20\n",
      "8s - loss: 0.0013 - acc: 0.9998 - val_loss: 0.0866 - val_acc: 0.9831\n",
      "Epoch 19/20\n",
      "8s - loss: 0.0013 - acc: 0.9997 - val_loss: 0.1010 - val_acc: 0.9818\n",
      "Epoch 20/20\n",
      "8s - loss: 8.9187e-04 - acc: 0.9998 - val_loss: 0.0883 - val_acc: 0.9832\n"
     ]
    },
    {
     "data": {
      "text/plain": [
       "<keras.callbacks.History at 0x7fbf1abd85d0>"
      ]
     },
     "execution_count": 77,
     "metadata": {},
     "output_type": "execute_result"
    }
   ],
   "source": [
    "model.fit(X_train, y_train, epochs=20, batch_size=200, verbose=2, validation_data=(X_test, y_test))"
   ]
  },
  {
   "cell_type": "code",
   "execution_count": 78,
   "metadata": {
    "collapsed": false,
    "deletable": true,
    "editable": true
   },
   "outputs": [
    {
     "name": "stdout",
     "output_type": "stream",
     "text": [
      "Accuracy: 98.32%\n"
     ]
    }
   ],
   "source": [
    "score = model.evaluate(X_test, y_test, verbose=0)\n",
    "print 'Accuracy: %0.2f%%'%(score[1]*100)"
   ]
  },
  {
   "cell_type": "code",
   "execution_count": null,
   "metadata": {
    "collapsed": true,
    "deletable": true,
    "editable": true
   },
   "outputs": [],
   "source": []
  },
  {
   "cell_type": "code",
   "execution_count": null,
   "metadata": {
    "collapsed": true,
    "deletable": true,
    "editable": true
   },
   "outputs": [],
   "source": []
  }
 ],
 "metadata": {
  "kernelspec": {
   "display_name": "Python 2",
   "language": "python",
   "name": "python2"
  },
  "language_info": {
   "codemirror_mode": {
    "name": "ipython",
    "version": 2
   },
   "file_extension": ".py",
   "mimetype": "text/x-python",
   "name": "python",
   "nbconvert_exporter": "python",
   "pygments_lexer": "ipython2",
   "version": "2.7.12"
  }
 },
 "nbformat": 4,
 "nbformat_minor": 2
}
