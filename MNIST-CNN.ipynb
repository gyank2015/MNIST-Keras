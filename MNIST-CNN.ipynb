{
 "cells": [
  {
   "cell_type": "code",
   "execution_count": 48,
   "metadata": {
    "collapsed": false,
    "deletable": true,
    "editable": true
   },
   "outputs": [],
   "source": [
    "import numpy as np\n",
    "from keras.datasets import mnist\n",
    "from keras.models import Sequential\n",
    "from keras.layers import Dense, Dropout, Flatten\n",
    "from keras.layers.convolutional import Conv2D, MaxPooling2D\n",
    "from keras.utils import np_utils"
   ]
  },
  {
   "cell_type": "code",
   "execution_count": 49,
   "metadata": {
    "collapsed": true,
    "deletable": true,
    "editable": true
   },
   "outputs": [],
   "source": [
    "np.random.seed(10)"
   ]
  },
  {
   "cell_type": "code",
   "execution_count": 50,
   "metadata": {
    "collapsed": true,
    "deletable": true,
    "editable": true
   },
   "outputs": [],
   "source": [
    "(X_train, y_train), (X_test, y_test) = mnist.load_data()"
   ]
  },
  {
   "cell_type": "code",
   "execution_count": 51,
   "metadata": {
    "collapsed": false,
    "deletable": true,
    "editable": true
   },
   "outputs": [
    {
     "name": "stdout",
     "output_type": "stream",
     "text": [
      "(10000, 28, 28, 1) (60000, 28, 28, 1)\n"
     ]
    }
   ],
   "source": [
    "m_train = X_train.shape[0]\n",
    "m_test = X_test.shape[0]\n",
    "n = X_train.shape[1]\n",
    "nb_class = 10\n",
    "X_train = X_train.reshape(m_train,n,n,1).astype('float32')\n",
    "X_test = X_test.reshape(m_test,n,n,1).astype('float32')\n",
    "X_train /= 255\n",
    "X_test /= 255\n",
    "print X_test.shape, X_train.shape"
   ]
  },
  {
   "cell_type": "code",
   "execution_count": 52,
   "metadata": {
    "collapsed": false,
    "deletable": true,
    "editable": true
   },
   "outputs": [
    {
     "name": "stdout",
     "output_type": "stream",
     "text": [
      "(60000, 10) (10000, 10)\n"
     ]
    }
   ],
   "source": [
    "y_train = np_utils.to_categorical(y_train, nb_class)\n",
    "y_test = np_utils.to_categorical(y_test, nb_class)\n",
    "print y_train.shape, y_test.shape"
   ]
  },
  {
   "cell_type": "code",
   "execution_count": 53,
   "metadata": {
    "collapsed": false,
    "deletable": true,
    "editable": true
   },
   "outputs": [],
   "source": [
    "model = Sequential()\n",
    "model.add(Conv2D(32, (5, 5), input_shape=(28, 28,1), activation='relu'))\n",
    "model.add(Conv2D(32, (5, 5), activation='relu'))\n",
    "model.add(MaxPooling2D(pool_size=(2, 2)))\n",
    "model.add(Dropout(0.2))\n",
    "model.add(Flatten())\n",
    "#Fully Connected Layer\n",
    "model.add(Dense(128, activation='relu'))\n",
    "model.add(Dense(nb_class, activation='softmax'))\n",
    "model.compile(loss='categorical_crossentropy', optimizer='adam', metrics=['accuracy'])"
   ]
  },
  {
   "cell_type": "code",
   "execution_count": 54,
   "metadata": {
    "collapsed": false,
    "deletable": true,
    "editable": true
   },
   "outputs": [
    {
     "name": "stdout",
     "output_type": "stream",
     "text": [
      "Train on 60000 samples, validate on 10000 samples\n",
      "Epoch 1/10\n",
      "192s - loss: 0.1991 - acc: 0.9416 - val_loss: 0.0511 - val_acc: 0.9835\n",
      "Epoch 2/10\n",
      "185s - loss: 0.0529 - acc: 0.9839 - val_loss: 0.0399 - val_acc: 0.9868\n",
      "Epoch 3/10\n",
      "186s - loss: 0.0376 - acc: 0.9881 - val_loss: 0.0354 - val_acc: 0.9882\n",
      "Epoch 4/10\n",
      "191s - loss: 0.0295 - acc: 0.9908 - val_loss: 0.0276 - val_acc: 0.9913\n",
      "Epoch 5/10\n",
      "186s - loss: 0.0212 - acc: 0.9932 - val_loss: 0.0265 - val_acc: 0.9920\n",
      "Epoch 6/10\n",
      "182s - loss: 0.0195 - acc: 0.9938 - val_loss: 0.0296 - val_acc: 0.9907\n",
      "Epoch 7/10\n",
      "198s - loss: 0.0149 - acc: 0.9949 - val_loss: 0.0255 - val_acc: 0.9917\n",
      "Epoch 8/10\n",
      "192s - loss: 0.0129 - acc: 0.9959 - val_loss: 0.0237 - val_acc: 0.9924\n",
      "Epoch 9/10\n",
      "187s - loss: 0.0117 - acc: 0.9961 - val_loss: 0.0289 - val_acc: 0.9919\n",
      "Epoch 10/10\n",
      "179s - loss: 0.0098 - acc: 0.9967 - val_loss: 0.0290 - val_acc: 0.9908\n",
      "Accuracy: 99.08%\n"
     ]
    }
   ],
   "source": [
    "model.fit(X_train, y_train, validation_data=(X_test, y_test), epochs=10, batch_size=200, verbose=2)\n",
    "score = model.evaluate(X_test, y_test, verbose=0)\n",
    "print 'Accuracy: %.2f%%'%(score[1]*100)"
   ]
  },
  {
   "cell_type": "code",
   "execution_count": null,
   "metadata": {
    "collapsed": true
   },
   "outputs": [],
   "source": []
  }
 ],
 "metadata": {
  "kernelspec": {
   "display_name": "Python 2",
   "language": "python",
   "name": "python2"
  },
  "language_info": {
   "codemirror_mode": {
    "name": "ipython",
    "version": 2
   },
   "file_extension": ".py",
   "mimetype": "text/x-python",
   "name": "python",
   "nbconvert_exporter": "python",
   "pygments_lexer": "ipython2",
   "version": "2.7.12"
  }
 },
 "nbformat": 4,
 "nbformat_minor": 2
}
